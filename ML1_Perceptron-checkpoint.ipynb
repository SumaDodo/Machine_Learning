{
 "cells": [
  {
   "cell_type": "code",
   "execution_count": 53,
   "metadata": {
    "collapsed": true
   },
   "outputs": [],
   "source": [
    "import numpy as np\n",
    "class IrisM:\n",
    "    \"\"\"\n",
    "    Class to store modified iris data for Perceptron Training\n",
    "    \"\"\"\n",
    "    \n",
    "    def __init__(self):\n",
    "        from sklearn import datasets\n",
    "        \n",
    "        iris = datasets.load_iris()\n",
    "        \n",
    "        # only taking first two features\n",
    "        X = iris.data[:, :2]\n",
    "        y = iris.target[:]\n",
    "        \n",
    "        # only considering whether it is setosa or not\n",
    "        y[iris.target != 0] = -1\n",
    "        y[iris.target == 0] = 1\n",
    "        \n",
    "        mask = np.random.choice(a = [False, True], size = 150, p = (0.66, 1 - 0.66))\n",
    "        \n",
    "        self.train_x, self.train_y = X[mask], y[mask]\n",
    "        self.test_x, self.test_y = X[~mask], y[~mask]"
   ]
  },
  {
   "cell_type": "code",
   "execution_count": 54,
   "metadata": {},
   "outputs": [
    {
     "name": "stdout",
     "output_type": "stream",
     "text": [
      "(43, 2)\n",
      "[4.7 3.2] [5.  3.6] [4.6 3.4]\n"
     ]
    }
   ],
   "source": [
    "iris = IrisM()\n",
    "print(iris.train_x.shape)\n",
    "print(iris.train_x[0],iris.train_x[1],iris.train_x[2])"
   ]
  },
  {
   "cell_type": "code",
   "execution_count": 55,
   "metadata": {
    "collapsed": true
   },
   "outputs": [],
   "source": [
    "class Perceptron:\n",
    "    \"\"\"\n",
    "    Perceptron Classifier\n",
    "    \"\"\"\n",
    "    \n",
    "    def __init__(self, X, y):\n",
    "        \"\"\"\n",
    "        Creates a kNN instance\n",
    "\n",
    "        :param X: Training data input\n",
    "        :param y: Training data output\n",
    "        \"\"\"\n",
    "        self._X = X\n",
    "        self._y = y\n",
    "        self._theta, self._iter = self.train(X, y)\n",
    "#         print(self._theta[0], self._theta[1])\n",
    "#         print(self._iter)\n",
    "        \n",
    "    def train(self, X, y):\n",
    "        \"\"\"\n",
    "        Train perceptron and return final classification vector and\n",
    "        the number of updates performed respectively\n",
    "        \n",
    "        :param X: Training data input\n",
    "        :param y: Training data output\n",
    "        \"\"\"\n",
    "        samples,features = X.shape\n",
    "        bias = 0\n",
    "        updates = 0\n",
    "        weight = np.zeros(features)\n",
    "        while True:\n",
    "            error = 0\n",
    "            for i in range(samples):\n",
    "                x = np.sign(np.dot(np.transpose(weight),X[i])+bias)\n",
    "                if (x != y[i]):\n",
    "                    error = error+1\n",
    "                    weight = weight + y[i]*X[i]\n",
    "                    bias = bias + y[i]\n",
    "                    updates = updates + 1\n",
    "            if(error == 0):\n",
    "                break\n",
    "        print(weight, updates)\n",
    "        return weight, updates\n",
    "#         for i  in range(self._iter):\n",
    "#             error = 0\n",
    "#             for i,j in zip(X,y):\n",
    "#                 input1 = np.dot(i, weight[1:]) + weight[0]\n",
    "#                 if(input1>=0.0):\n",
    "#                     main_input = 1\n",
    "#                 else:\n",
    "#                     main_input = -1\n",
    "#                 t = 0.01 * (j - main_input)\n",
    "#                 weight[1:] += 0.01 * i\n",
    "#                 weight[0] += 0.01\n",
    "#                 error += int(0.01 != 0.0)\n",
    "#                 errors.append(error)\n",
    "#         return (t, error)\n",
    "                \n",
    "    \n",
    "    def predict(self, X):\n",
    "        \"\"\"\n",
    "        Predicts the label for input\n",
    "        \n",
    "        :param X: Testing data input\n",
    "        \"\"\"\n",
    "        y = np.sign(np.dot((self._theta),X)) + self._theta[0]\n",
    "        if (y!=0):\n",
    "            return -1\n",
    "        else:\n",
    "            return 1\n",
    "        \n",
    "    def margin(self):\n",
    "        \"\"\"\n",
    "        Returns geometric margin of the classifier\n",
    "        \"\"\""
   ]
  },
  {
   "cell_type": "code",
   "execution_count": 56,
   "metadata": {},
   "outputs": [
    {
     "name": "stderr",
     "output_type": "stream",
     "text": [
      "."
     ]
    },
    {
     "name": "stdout",
     "output_type": "stream",
     "text": [
      "[-1.  1.] 2\n"
     ]
    },
    {
     "name": "stderr",
     "output_type": "stream",
     "text": [
      "\n",
      "----------------------------------------------------------------------\n",
      "Ran 1 test in 0.002s\n",
      "\n",
      "OK\n"
     ]
    },
    {
     "data": {
      "text/plain": [
       "<unittest.runner.TextTestResult run=1 errors=0 failures=0>"
      ]
     },
     "execution_count": 56,
     "metadata": {},
     "output_type": "execute_result"
    }
   ],
   "source": [
    "import unittest\n",
    "\n",
    "class TestPerceptron(unittest.TestCase):\n",
    "    def setUp(self):\n",
    "        self.x = np.array([[1, 2], [4, 5], [2, 1], [5, 4]])\n",
    "        self.y = np.array([+1, +1, -1, -1])\n",
    "        self.perceptron = Perceptron(self.x, self.y)\n",
    "        self.queries = np.array([[1, 5], [0, 3], [6, 4], [2, 2]])\n",
    "\n",
    "    def test0(self):\n",
    "        \"\"\"\n",
    "        Test Perceptron\n",
    "        \"\"\"\n",
    "        self.assertEqual(self.perceptron.predict(self.queries[0]),  1)\n",
    "        self.assertEqual(self.perceptron.predict(self.queries[1]),  1)\n",
    "        self.assertEqual(self.perceptron.predict(self.queries[2]), -1)\n",
    "        self.assertEqual(self.perceptron.predict(self.queries[3]), -1)\n",
    "                \n",
    "tests = TestPerceptron()\n",
    "tests_to_run = unittest.TestLoader().loadTestsFromModule(tests)\n",
    "unittest.TextTestRunner().run(tests_to_run)"
   ]
  },
  {
   "cell_type": "code",
   "execution_count": null,
   "metadata": {
    "collapsed": true
   },
   "outputs": [],
   "source": []
  }
 ],
 "metadata": {
  "kernelspec": {
   "display_name": "Python 3",
   "language": "python",
   "name": "python3"
  },
  "language_info": {
   "codemirror_mode": {
    "name": "ipython",
    "version": 3
   },
   "file_extension": ".py",
   "mimetype": "text/x-python",
   "name": "python",
   "nbconvert_exporter": "python",
   "pygments_lexer": "ipython3",
   "version": "3.6.3"
  }
 },
 "nbformat": 4,
 "nbformat_minor": 2
}

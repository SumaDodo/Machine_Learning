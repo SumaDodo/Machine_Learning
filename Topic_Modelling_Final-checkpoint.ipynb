{
 "cells": [
  {
   "cell_type": "code",
   "execution_count": 119,
   "metadata": {
    "collapsed": true
   },
   "outputs": [],
   "source": [
    "from sklearn.decomposition import LatentDirichletAllocation\n",
    "import numpy as np\n",
    "import pandas as pd\n",
    "import glob\n",
    "import matplotlib.pyplot as plt\n",
    "import datetime\n",
    "import seaborn as sns"
   ]
  },
  {
   "cell_type": "code",
   "execution_count": 120,
   "metadata": {
    "collapsed": true
   },
   "outputs": [],
   "source": [
    "path = \"C:/Users/sumas/Downloads/smart-meters-in-london/daily_dataset\"\n",
    "allFiles = glob.glob(path + \"/block_1[0-9].csv\")"
   ]
  },
  {
   "cell_type": "code",
   "execution_count": 121,
   "metadata": {
    "collapsed": true
   },
   "outputs": [],
   "source": [
    "list_of_dfs = [pd.read_csv(filename) for filename in allFiles]"
   ]
  },
  {
   "cell_type": "code",
   "execution_count": 122,
   "metadata": {
    "collapsed": true
   },
   "outputs": [],
   "source": [
    "average_energy_house = []\n",
    "high_energy_house = []\n",
    "low_energy_house = []\n",
    "temp_avg = []\n",
    "temp_max = []\n",
    "temp_min = []\n",
    "for i in range(0,10):\n",
    "    current_list = list_of_dfs[i]\n",
    "    current_list = current_list[['day','energy_sum']]\n",
    "    current_list = current_list.groupby(['day']).sum().reset_index()\n",
    "    min_energy_consumption = current_list['energy_sum'].min()\n",
    "    max_energy_consumption = current_list['energy_sum'].max()\n",
    "    avg_energy_consumption = current_list['energy_sum'].mean()\n",
    "    avg_energy_consumption = (min_energy_consumption+avg_energy_consumption)/2\n",
    "    max_energy_consumption = (max_energy_consumption+avg_energy_consumption)/2\n",
    "    for i in current_list['energy_sum']:\n",
    "        if (i > avg_energy_consumption and i < max_energy_consumption):\n",
    "            average_energy_house.append(i)\n",
    "        elif (i <= avg_energy_consumption):\n",
    "            low_energy_house.append(i)\n",
    "        else:\n",
    "            high_energy_house.append(i)\n",
    "    temp_avg.append(average_energy_house)\n",
    "    temp_min.append(low_energy_house)\n",
    "    temp_max.append(high_energy_house)\n",
    "# #applying LDA\n",
    "# for i in range(0,10):\n",
    "#     current_list = list_of_dfs[i]\n",
    "#     current_list = current_list[['day','energy_sum']]\n",
    "#     current_list = current_list.groupby(['day']).sum().reset_index()\n",
    "#     current_list = current_list[\"energy_sum\"]\n",
    "#     current_list = current_list.reshape(1, -1)\n",
    "#     x_topics.append(lda_model.fit_transform(current_list))"
   ]
  },
  {
   "cell_type": "code",
   "execution_count": 123,
   "metadata": {
    "collapsed": true
   },
   "outputs": [],
   "source": [
    "lda_model = LatentDirichletAllocation(n_components = 3,\n",
    "                                     learning_method = 'batch',\n",
    "                                     max_iter = 10,\n",
    "                                     random_state = 30)"
   ]
  },
  {
   "cell_type": "code",
   "execution_count": 124,
   "metadata": {},
   "outputs": [
    {
     "data": {
      "text/plain": [
       "[array([[0.31375418, 0.34635212, 0.33989369]]),\n",
       " array([[0.31375418, 0.34635212, 0.33989369]]),\n",
       " array([[0.31375418, 0.34635212, 0.33989369]]),\n",
       " array([[0.31375418, 0.34635212, 0.33989369]]),\n",
       " array([[0.31375418, 0.34635212, 0.33989369]]),\n",
       " array([[0.31375418, 0.34635212, 0.33989369]]),\n",
       " array([[0.31375418, 0.34635212, 0.33989369]]),\n",
       " array([[0.31375418, 0.34635212, 0.33989369]]),\n",
       " array([[0.31375418, 0.34635212, 0.33989369]]),\n",
       " array([[0.31375418, 0.34635212, 0.33989369]])]"
      ]
     },
     "execution_count": 124,
     "metadata": {},
     "output_type": "execute_result"
    }
   ],
   "source": [
    "x_topics_average = []\n",
    "for i in range(0,10):\n",
    "    temp_avg[i] = np.asarray(temp_avg[i])\n",
    "    temp_avg[i] = temp_avg[i].reshape(1, -1)\n",
    "    x_topics_average.append(lda_model.fit_transform(temp_avg[i]))\n",
    "x_topics_average"
   ]
  },
  {
   "cell_type": "code",
   "execution_count": 125,
   "metadata": {},
   "outputs": [
    {
     "data": {
      "text/plain": [
       "[array([[3.76459216e-06, 3.72610411e-06, 9.99992509e-01]]),\n",
       " array([[3.76459216e-06, 3.72610411e-06, 9.99992509e-01]]),\n",
       " array([[3.76459216e-06, 3.72610411e-06, 9.99992509e-01]]),\n",
       " array([[3.76459216e-06, 3.72610411e-06, 9.99992509e-01]]),\n",
       " array([[3.76459216e-06, 3.72610411e-06, 9.99992509e-01]]),\n",
       " array([[3.76459216e-06, 3.72610411e-06, 9.99992509e-01]]),\n",
       " array([[3.76459216e-06, 3.72610411e-06, 9.99992509e-01]]),\n",
       " array([[3.76459216e-06, 3.72610411e-06, 9.99992509e-01]]),\n",
       " array([[3.76459216e-06, 3.72610411e-06, 9.99992509e-01]]),\n",
       " array([[3.76459216e-06, 3.72610411e-06, 9.99992509e-01]])]"
      ]
     },
     "execution_count": 125,
     "metadata": {},
     "output_type": "execute_result"
    }
   ],
   "source": [
    "x_topics_min = []\n",
    "for i in range(0,10):\n",
    "    temp_min[i] = np.asarray(temp_min[i])\n",
    "    temp_min[i] = temp_min[i].reshape(1, -1)\n",
    "    x_topics_min.append(lda_model.fit_transform(temp_min[i]))\n",
    "x_topics_min"
   ]
  },
  {
   "cell_type": "code",
   "execution_count": 126,
   "metadata": {},
   "outputs": [
    {
     "data": {
      "text/plain": [
       "[array([[0.33326769, 0.33512888, 0.33160342]]),\n",
       " array([[0.33326769, 0.33512888, 0.33160342]]),\n",
       " array([[0.33326769, 0.33512888, 0.33160342]]),\n",
       " array([[0.33326769, 0.33512888, 0.33160342]]),\n",
       " array([[0.33326769, 0.33512888, 0.33160342]]),\n",
       " array([[0.33326769, 0.33512888, 0.33160342]]),\n",
       " array([[0.33326769, 0.33512888, 0.33160342]]),\n",
       " array([[0.33326769, 0.33512888, 0.33160342]]),\n",
       " array([[0.33326769, 0.33512888, 0.33160342]]),\n",
       " array([[0.33326769, 0.33512888, 0.33160342]])]"
      ]
     },
     "execution_count": 126,
     "metadata": {},
     "output_type": "execute_result"
    }
   ],
   "source": [
    "x_topics_max = []\n",
    "for i in range(0,10):\n",
    "    temp_max[i] = np.asarray(temp_max[i])\n",
    "    temp_max[i] = temp_max[i].reshape(1, -1)\n",
    "    x_topics_max.append(lda_model.fit_transform(temp_max[i]))\n",
    "x_topics_max"
   ]
  },
  {
   "cell_type": "code",
   "execution_count": 134,
   "metadata": {
    "collapsed": true
   },
   "outputs": [],
   "source": [
    "f, (ax1, ax2, ax3) = plt.subplots(1, 3, sharex= True)\n",
    "x_value_label = x_topics_average[0].flatten().tolist()\n",
    "x_value_label_1 = x_topics_max[0].flatten().tolist()\n",
    "x_value_label_2 = x_topics_min[0].flatten().tolist()\n",
    "\n",
    "ax1.set_title(\"Average Energy users\")\n",
    "ax2.set_title(\"Maximum Energy users\")\n",
    "ax3.set_title(\"Minimum Energy users\")\n",
    "\n",
    "ax1.plot(x_value_label)\n",
    "ax2.plot(x_value_label_1)\n",
    "ax3.plot(x_value_label_2)\n",
    "\n",
    "f.set_figheight(8)\n",
    "f.set_figwidth(15)"
   ]
  },
  {
   "cell_type": "code",
   "execution_count": 135,
   "metadata": {},
   "outputs": [
    {
     "data": {
      "image/png": "[encoded data removed]",
      "text/plain": [
       "<Figure size 1080x576 with 3 Axes>"
      ]
     },
     "metadata": {},
     "output_type": "display_data"
    }
   ],
   "source": [
    "plt.show()"
   ]
  },
  {
   "cell_type": "code",
   "execution_count": null,
   "metadata": {
    "collapsed": true
   },
   "outputs": [],
   "source": []
  }
 ],
 "metadata": {
  "kernelspec": {
   "display_name": "Python 3",
   "language": "python",
   "name": "python3"
  },
  "language_info": {
   "codemirror_mode": {
    "name": "ipython",
    "version": 3
   },
   "file_extension": ".py",
   "mimetype": "text/x-python",
   "name": "python",
   "nbconvert_exporter": "python",
   "pygments_lexer": "ipython3",
   "version": "3.6.3"
  }
 },
 "nbformat": 4,
 "nbformat_minor": 2
}
